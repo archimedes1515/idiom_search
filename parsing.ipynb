{
  "nbformat": 4,
  "nbformat_minor": 0,
  "metadata": {
    "colab": {
      "provenance": [],
      "collapsed_sections": [
        "4N-GQv7i_1ny",
        "wRYhtQjVY0VW"
      ]
    },
    "kernelspec": {
      "name": "python3",
      "display_name": "Python 3"
    },
    "language_info": {
      "name": "python"
    },
    "gpuClass": "standard"
  },
  "cells": [
    {
      "cell_type": "markdown",
      "source": [
        "# Guardian API"
      ],
      "metadata": {
        "id": "mjeKq3_H_4hM"
      }
    },
    {
      "cell_type": "code",
      "source": [
        "import pandas as pd\n",
        "import os"
      ],
      "metadata": {
        "id": "uYFttNdmfxol"
      },
      "execution_count": null,
      "outputs": []
    },
    {
      "cell_type": "code",
      "source": [
        "from google.colab import drive\n",
        "drive.mount('/content/drive')\n",
        "drive_data_dir = '/content/drive/MyDrive/Colab Notebooks/vkr/'"
      ],
      "metadata": {
        "colab": {
          "base_uri": "https://localhost:8080/"
        },
        "id": "9PWfO0hWfhbs",
        "outputId": "a47a7fc9-d366-4fda-d3e3-a1d4ac13c0df"
      },
      "execution_count": null,
      "outputs": [
        {
          "output_type": "stream",
          "name": "stdout",
          "text": [
            "Mounted at /content/drive\n"
          ]
        }
      ]
    },
    {
      "cell_type": "code",
      "source": [
        "idioms = pd.read_csv(os.path.join(drive_data_dir, 'unique_idioms_filtered.csv'))  # подгрузим те идиомы, которые у нас остались после фильтрации\n",
        "idioms = idioms.rename(columns={'0': 'idiom'})"
      ],
      "metadata": {
        "id": "lH0uxBNxft6V"
      },
      "execution_count": null,
      "outputs": []
    },
    {
      "cell_type": "code",
      "source": [
        "idioms"
      ],
      "metadata": {
        "colab": {
          "base_uri": "https://localhost:8080/",
          "height": 423
        },
        "id": "tHhIlAyxboJ_",
        "outputId": "07218f8e-eab3-43a6-826f-6db311d69e68"
      },
      "execution_count": null,
      "outputs": [
        {
          "output_type": "execute_result",
          "data": {
            "text/plain": [
              "                      idiom\n",
              "0                never mind\n",
              "1           next to nothing\n",
              "2     nine times out of ten\n",
              "3         no spring chicken\n",
              "4    not in a million years\n",
              "..                      ...\n",
              "168         round the clock\n",
              "169           rule of thumb\n",
              "170                 you bet\n",
              "171           silver bullet\n",
              "172            snowed under\n",
              "\n",
              "[173 rows x 1 columns]"
            ],
            "text/html": [
              "\n",
              "  <div id=\"df-295c753c-84c8-41e2-a2ec-c56306033d0e\">\n",
              "    <div class=\"colab-df-container\">\n",
              "      <div>\n",
              "<style scoped>\n",
              "    .dataframe tbody tr th:only-of-type {\n",
              "        vertical-align: middle;\n",
              "    }\n",
              "\n",
              "    .dataframe tbody tr th {\n",
              "        vertical-align: top;\n",
              "    }\n",
              "\n",
              "    .dataframe thead th {\n",
              "        text-align: right;\n",
              "    }\n",
              "</style>\n",
              "<table border=\"1\" class=\"dataframe\">\n",
              "  <thead>\n",
              "    <tr style=\"text-align: right;\">\n",
              "      <th></th>\n",
              "      <th>idiom</th>\n",
              "    </tr>\n",
              "  </thead>\n",
              "  <tbody>\n",
              "    <tr>\n",
              "      <th>0</th>\n",
              "      <td>never mind</td>\n",
              "    </tr>\n",
              "    <tr>\n",
              "      <th>1</th>\n",
              "      <td>next to nothing</td>\n",
              "    </tr>\n",
              "    <tr>\n",
              "      <th>2</th>\n",
              "      <td>nine times out of ten</td>\n",
              "    </tr>\n",
              "    <tr>\n",
              "      <th>3</th>\n",
              "      <td>no spring chicken</td>\n",
              "    </tr>\n",
              "    <tr>\n",
              "      <th>4</th>\n",
              "      <td>not in a million years</td>\n",
              "    </tr>\n",
              "    <tr>\n",
              "      <th>...</th>\n",
              "      <td>...</td>\n",
              "    </tr>\n",
              "    <tr>\n",
              "      <th>168</th>\n",
              "      <td>round the clock</td>\n",
              "    </tr>\n",
              "    <tr>\n",
              "      <th>169</th>\n",
              "      <td>rule of thumb</td>\n",
              "    </tr>\n",
              "    <tr>\n",
              "      <th>170</th>\n",
              "      <td>you bet</td>\n",
              "    </tr>\n",
              "    <tr>\n",
              "      <th>171</th>\n",
              "      <td>silver bullet</td>\n",
              "    </tr>\n",
              "    <tr>\n",
              "      <th>172</th>\n",
              "      <td>snowed under</td>\n",
              "    </tr>\n",
              "  </tbody>\n",
              "</table>\n",
              "<p>173 rows × 1 columns</p>\n",
              "</div>\n",
              "      <button class=\"colab-df-convert\" onclick=\"convertToInteractive('df-295c753c-84c8-41e2-a2ec-c56306033d0e')\"\n",
              "              title=\"Convert this dataframe to an interactive table.\"\n",
              "              style=\"display:none;\">\n",
              "        \n",
              "  <svg xmlns=\"http://www.w3.org/2000/svg\" height=\"24px\"viewBox=\"0 0 24 24\"\n",
              "       width=\"24px\">\n",
              "    <path d=\"M0 0h24v24H0V0z\" fill=\"none\"/>\n",
              "    <path d=\"M18.56 5.44l.94 2.06.94-2.06 2.06-.94-2.06-.94-.94-2.06-.94 2.06-2.06.94zm-11 1L8.5 8.5l.94-2.06 2.06-.94-2.06-.94L8.5 2.5l-.94 2.06-2.06.94zm10 10l.94 2.06.94-2.06 2.06-.94-2.06-.94-.94-2.06-.94 2.06-2.06.94z\"/><path d=\"M17.41 7.96l-1.37-1.37c-.4-.4-.92-.59-1.43-.59-.52 0-1.04.2-1.43.59L10.3 9.45l-7.72 7.72c-.78.78-.78 2.05 0 2.83L4 21.41c.39.39.9.59 1.41.59.51 0 1.02-.2 1.41-.59l7.78-7.78 2.81-2.81c.8-.78.8-2.07 0-2.86zM5.41 20L4 18.59l7.72-7.72 1.47 1.35L5.41 20z\"/>\n",
              "  </svg>\n",
              "      </button>\n",
              "      \n",
              "  <style>\n",
              "    .colab-df-container {\n",
              "      display:flex;\n",
              "      flex-wrap:wrap;\n",
              "      gap: 12px;\n",
              "    }\n",
              "\n",
              "    .colab-df-convert {\n",
              "      background-color: #E8F0FE;\n",
              "      border: none;\n",
              "      border-radius: 50%;\n",
              "      cursor: pointer;\n",
              "      display: none;\n",
              "      fill: #1967D2;\n",
              "      height: 32px;\n",
              "      padding: 0 0 0 0;\n",
              "      width: 32px;\n",
              "    }\n",
              "\n",
              "    .colab-df-convert:hover {\n",
              "      background-color: #E2EBFA;\n",
              "      box-shadow: 0px 1px 2px rgba(60, 64, 67, 0.3), 0px 1px 3px 1px rgba(60, 64, 67, 0.15);\n",
              "      fill: #174EA6;\n",
              "    }\n",
              "\n",
              "    [theme=dark] .colab-df-convert {\n",
              "      background-color: #3B4455;\n",
              "      fill: #D2E3FC;\n",
              "    }\n",
              "\n",
              "    [theme=dark] .colab-df-convert:hover {\n",
              "      background-color: #434B5C;\n",
              "      box-shadow: 0px 1px 3px 1px rgba(0, 0, 0, 0.15);\n",
              "      filter: drop-shadow(0px 1px 2px rgba(0, 0, 0, 0.3));\n",
              "      fill: #FFFFFF;\n",
              "    }\n",
              "  </style>\n",
              "\n",
              "      <script>\n",
              "        const buttonEl =\n",
              "          document.querySelector('#df-295c753c-84c8-41e2-a2ec-c56306033d0e button.colab-df-convert');\n",
              "        buttonEl.style.display =\n",
              "          google.colab.kernel.accessAllowed ? 'block' : 'none';\n",
              "\n",
              "        async function convertToInteractive(key) {\n",
              "          const element = document.querySelector('#df-295c753c-84c8-41e2-a2ec-c56306033d0e');\n",
              "          const dataTable =\n",
              "            await google.colab.kernel.invokeFunction('convertToInteractive',\n",
              "                                                     [key], {});\n",
              "          if (!dataTable) return;\n",
              "\n",
              "          const docLinkHtml = 'Like what you see? Visit the ' +\n",
              "            '<a target=\"_blank\" href=https://colab.research.google.com/notebooks/data_table.ipynb>data table notebook</a>'\n",
              "            + ' to learn more about interactive tables.';\n",
              "          element.innerHTML = '';\n",
              "          dataTable['output_type'] = 'display_data';\n",
              "          await google.colab.output.renderOutput(dataTable, element);\n",
              "          const docLink = document.createElement('div');\n",
              "          docLink.innerHTML = docLinkHtml;\n",
              "          element.appendChild(docLink);\n",
              "        }\n",
              "      </script>\n",
              "    </div>\n",
              "  </div>\n",
              "  "
            ]
          },
          "metadata": {},
          "execution_count": 4
        }
      ]
    },
    {
      "cell_type": "code",
      "source": [
        "idioms['query'] = idioms['idiom'].apply(lambda x: '%22' + '%20'.join(x.split()) + '%22')  # создадим столбец query (нужен для создания запросов для api)"
      ],
      "metadata": {
        "id": "GfEufsUrgAhz"
      },
      "execution_count": null,
      "outputs": []
    },
    {
      "cell_type": "code",
      "source": [
        "idioms.head(3)  "
      ],
      "metadata": {
        "colab": {
          "base_uri": "https://localhost:8080/",
          "height": 143
        },
        "id": "2oR9k6Eag2VQ",
        "outputId": "3077f49e-976d-48d8-acc0-234260e21727"
      },
      "execution_count": null,
      "outputs": [
        {
          "output_type": "execute_result",
          "data": {
            "text/plain": [
              "                   idiom                                query\n",
              "0             never mind                   %22never%20mind%22\n",
              "1        next to nothing            %22next%20to%20nothing%22\n",
              "2  nine times out of ten  %22nine%20times%20out%20of%20ten%22"
            ],
            "text/html": [
              "\n",
              "  <div id=\"df-21d7cbec-ce3d-4504-a339-a65991de0a2d\">\n",
              "    <div class=\"colab-df-container\">\n",
              "      <div>\n",
              "<style scoped>\n",
              "    .dataframe tbody tr th:only-of-type {\n",
              "        vertical-align: middle;\n",
              "    }\n",
              "\n",
              "    .dataframe tbody tr th {\n",
              "        vertical-align: top;\n",
              "    }\n",
              "\n",
              "    .dataframe thead th {\n",
              "        text-align: right;\n",
              "    }\n",
              "</style>\n",
              "<table border=\"1\" class=\"dataframe\">\n",
              "  <thead>\n",
              "    <tr style=\"text-align: right;\">\n",
              "      <th></th>\n",
              "      <th>idiom</th>\n",
              "      <th>query</th>\n",
              "    </tr>\n",
              "  </thead>\n",
              "  <tbody>\n",
              "    <tr>\n",
              "      <th>0</th>\n",
              "      <td>never mind</td>\n",
              "      <td>%22never%20mind%22</td>\n",
              "    </tr>\n",
              "    <tr>\n",
              "      <th>1</th>\n",
              "      <td>next to nothing</td>\n",
              "      <td>%22next%20to%20nothing%22</td>\n",
              "    </tr>\n",
              "    <tr>\n",
              "      <th>2</th>\n",
              "      <td>nine times out of ten</td>\n",
              "      <td>%22nine%20times%20out%20of%20ten%22</td>\n",
              "    </tr>\n",
              "  </tbody>\n",
              "</table>\n",
              "</div>\n",
              "      <button class=\"colab-df-convert\" onclick=\"convertToInteractive('df-21d7cbec-ce3d-4504-a339-a65991de0a2d')\"\n",
              "              title=\"Convert this dataframe to an interactive table.\"\n",
              "              style=\"display:none;\">\n",
              "        \n",
              "  <svg xmlns=\"http://www.w3.org/2000/svg\" height=\"24px\"viewBox=\"0 0 24 24\"\n",
              "       width=\"24px\">\n",
              "    <path d=\"M0 0h24v24H0V0z\" fill=\"none\"/>\n",
              "    <path d=\"M18.56 5.44l.94 2.06.94-2.06 2.06-.94-2.06-.94-.94-2.06-.94 2.06-2.06.94zm-11 1L8.5 8.5l.94-2.06 2.06-.94-2.06-.94L8.5 2.5l-.94 2.06-2.06.94zm10 10l.94 2.06.94-2.06 2.06-.94-2.06-.94-.94-2.06-.94 2.06-2.06.94z\"/><path d=\"M17.41 7.96l-1.37-1.37c-.4-.4-.92-.59-1.43-.59-.52 0-1.04.2-1.43.59L10.3 9.45l-7.72 7.72c-.78.78-.78 2.05 0 2.83L4 21.41c.39.39.9.59 1.41.59.51 0 1.02-.2 1.41-.59l7.78-7.78 2.81-2.81c.8-.78.8-2.07 0-2.86zM5.41 20L4 18.59l7.72-7.72 1.47 1.35L5.41 20z\"/>\n",
              "  </svg>\n",
              "      </button>\n",
              "      \n",
              "  <style>\n",
              "    .colab-df-container {\n",
              "      display:flex;\n",
              "      flex-wrap:wrap;\n",
              "      gap: 12px;\n",
              "    }\n",
              "\n",
              "    .colab-df-convert {\n",
              "      background-color: #E8F0FE;\n",
              "      border: none;\n",
              "      border-radius: 50%;\n",
              "      cursor: pointer;\n",
              "      display: none;\n",
              "      fill: #1967D2;\n",
              "      height: 32px;\n",
              "      padding: 0 0 0 0;\n",
              "      width: 32px;\n",
              "    }\n",
              "\n",
              "    .colab-df-convert:hover {\n",
              "      background-color: #E2EBFA;\n",
              "      box-shadow: 0px 1px 2px rgba(60, 64, 67, 0.3), 0px 1px 3px 1px rgba(60, 64, 67, 0.15);\n",
              "      fill: #174EA6;\n",
              "    }\n",
              "\n",
              "    [theme=dark] .colab-df-convert {\n",
              "      background-color: #3B4455;\n",
              "      fill: #D2E3FC;\n",
              "    }\n",
              "\n",
              "    [theme=dark] .colab-df-convert:hover {\n",
              "      background-color: #434B5C;\n",
              "      box-shadow: 0px 1px 3px 1px rgba(0, 0, 0, 0.15);\n",
              "      filter: drop-shadow(0px 1px 2px rgba(0, 0, 0, 0.3));\n",
              "      fill: #FFFFFF;\n",
              "    }\n",
              "  </style>\n",
              "\n",
              "      <script>\n",
              "        const buttonEl =\n",
              "          document.querySelector('#df-21d7cbec-ce3d-4504-a339-a65991de0a2d button.colab-df-convert');\n",
              "        buttonEl.style.display =\n",
              "          google.colab.kernel.accessAllowed ? 'block' : 'none';\n",
              "\n",
              "        async function convertToInteractive(key) {\n",
              "          const element = document.querySelector('#df-21d7cbec-ce3d-4504-a339-a65991de0a2d');\n",
              "          const dataTable =\n",
              "            await google.colab.kernel.invokeFunction('convertToInteractive',\n",
              "                                                     [key], {});\n",
              "          if (!dataTable) return;\n",
              "\n",
              "          const docLinkHtml = 'Like what you see? Visit the ' +\n",
              "            '<a target=\"_blank\" href=https://colab.research.google.com/notebooks/data_table.ipynb>data table notebook</a>'\n",
              "            + ' to learn more about interactive tables.';\n",
              "          element.innerHTML = '';\n",
              "          dataTable['output_type'] = 'display_data';\n",
              "          await google.colab.output.renderOutput(dataTable, element);\n",
              "          const docLink = document.createElement('div');\n",
              "          docLink.innerHTML = docLinkHtml;\n",
              "          element.appendChild(docLink);\n",
              "        }\n",
              "      </script>\n",
              "    </div>\n",
              "  </div>\n",
              "  "
            ]
          },
          "metadata": {},
          "execution_count": 6
        }
      ]
    },
    {
      "cell_type": "code",
      "source": [
        "!git clone https://github.com/prabhath6/theguardian-api-python.git\n",
        "%cd theguardian-api-python\n",
        "\n",
        "# !source /content/theguardian-api-python/guardian/bin/activate\n",
        "!pip install -r requirements.txt -q"
      ],
      "metadata": {
        "id": "BEOE2vI7PEzm",
        "colab": {
          "base_uri": "https://localhost:8080/"
        },
        "outputId": "2c6e8ee1-14d9-45e9-8da7-329f58619d29"
      },
      "execution_count": null,
      "outputs": [
        {
          "output_type": "stream",
          "name": "stdout",
          "text": [
            "Cloning into 'theguardian-api-python'...\n",
            "remote: Enumerating objects: 144, done.\u001b[K\n",
            "remote: Total 144 (delta 0), reused 0 (delta 0), pack-reused 144\u001b[K\n",
            "Receiving objects: 100% (144/144), 36.88 KiB | 609.00 KiB/s, done.\n",
            "Resolving deltas: 100% (70/70), done.\n",
            "/content/theguardian-api-python\n",
            "\u001b[2K     \u001b[90m━━━━━━━━━━━━━━━━━━━━━━━━━━━━━━━━━━━━━━━━\u001b[0m \u001b[32m58.0/58.0 kB\u001b[0m \u001b[31m4.8 MB/s\u001b[0m eta \u001b[36m0:00:00\u001b[0m\n",
            "\u001b[2K     \u001b[90m━━━━━━━━━━━━━━━━━━━━━━━━━━━━━━━━━━━━━━━\u001b[0m \u001b[32m133.4/133.4 kB\u001b[0m \u001b[31m9.9 MB/s\u001b[0m eta \u001b[36m0:00:00\u001b[0m\n",
            "\u001b[2K     \u001b[90m━━━━━━━━━━━━━━━━━━━━━━━━━━━━━━━━━━━━━━\u001b[0m \u001b[32m128.0/128.0 kB\u001b[0m \u001b[31m15.8 MB/s\u001b[0m eta \u001b[36m0:00:00\u001b[0m\n",
            "\u001b[2K     \u001b[90m━━━━━━━━━━━━━━━━━━━━━━━━━━━━━━━━━━━━━━━━\u001b[0m \u001b[32m58.6/58.6 kB\u001b[0m \u001b[31m7.3 MB/s\u001b[0m eta \u001b[36m0:00:00\u001b[0m\n",
            "\u001b[?25h\u001b[31mERROR: pip's dependency resolver does not currently take into account all the packages that are installed. This behaviour is the source of the following dependency conflicts.\n",
            "yfinance 0.2.18 requires requests>=2.26, but you have requests 2.22.0 which is incompatible.\n",
            "tweepy 4.13.0 requires requests<3,>=2.27.0, but you have requests 2.22.0 which is incompatible.\n",
            "google-colab 1.0.0 requires requests>=2.27.0, but you have requests 2.22.0 which is incompatible.\u001b[0m\u001b[31m\n",
            "\u001b[0m"
          ]
        }
      ]
    },
    {
      "cell_type": "code",
      "source": [
        "from theguardian import theguardian_content"
      ],
      "metadata": {
        "id": "T5G8mNNvPSGa"
      },
      "execution_count": null,
      "outputs": []
    },
    {
      "cell_type": "code",
      "source": [
        "%cd .."
      ],
      "metadata": {
        "colab": {
          "base_uri": "https://localhost:8080/"
        },
        "id": "e4sHTdquAO0C",
        "outputId": "bd3a0c73-d003-4670-8d71-b684bfb41923"
      },
      "execution_count": null,
      "outputs": [
        {
          "output_type": "stream",
          "name": "stdout",
          "text": [
            "/content\n"
          ]
        }
      ]
    },
    {
      "cell_type": "code",
      "source": [
        "api_key = 'a93689cf-7efb-4cb1-bf3b-e1bdfb4f75d0'"
      ],
      "metadata": {
        "id": "YxJXL4AlQJdS"
      },
      "execution_count": null,
      "outputs": []
    },
    {
      "cell_type": "code",
      "source": [
        "# headers = {\n",
        "#     'q': 'best of both worlds',\n",
        "#     \"page-size\": 300,\n",
        "#     \"order-by\": \"relevance\",\n",
        "# }\n",
        "\n",
        "# content = theguardian_content.Content(api=api_key, **headers)"
      ],
      "metadata": {
        "id": "PW1Twa11WdNv"
      },
      "execution_count": null,
      "outputs": []
    },
    {
      "cell_type": "code",
      "source": [
        "# create content\n",
        "content = theguardian_content.Content(url='https://content.guardianapis.com/search?order-by=relevance&show-fields=bodyText&page-size=100&q=%22best%20of%20both%20worlds%22&', api=api_key)\n",
        "\n",
        "# gets raw_response\n",
        "raw_content = content.get_request_response()\n",
        "print(\"Request Response status code {status}.\" .format(status=raw_content.status_code))\n",
        "print(\"Request Response headers {header}.\" .format(header=raw_content.headers))\n",
        "\n",
        "# # content\n",
        "# print(\"Content Response headers {}.\" .format(content.response_headers()))\n",
        "\n",
        "# # get all results of a page\n",
        "# json_content = content.get_content_response()\n",
        "# all_results = content.get_results(json_content)\n",
        "# print(\"All results {}.\" .format(all_results))\n",
        "\n",
        "# # actual response\n",
        "# print(\"Response {response}\" .format(response=json_content))"
      ],
      "metadata": {
        "colab": {
          "base_uri": "https://localhost:8080/"
        },
        "id": "JOj_GsKjPIaX",
        "outputId": "49e7c7e2-2200-4374-9adf-2ea90560ed83"
      },
      "execution_count": null,
      "outputs": [
        {
          "output_type": "stream",
          "name": "stdout",
          "text": [
            "Request Response status code 200.\n",
            "Request Response headers {'Date': 'Sun, 19 Mar 2023 17:54:40 GMT', 'Content-Type': 'application/json', 'Transfer-Encoding': 'chunked', 'Connection': 'keep-alive', 'Set-Cookie': 'AWSALB=GhOCqJeS1ClUkLebIjpeRhsfsJoVeBBekLlRHnOKD3QCJYWQ7aCTPLeLMk+FSUPtrd40XkdTasLbv1qIWVdhp/nqNJvBcQuLCc+jlpimansIVhZJDGQh0cToaxtf; Expires=Sun, 26 Mar 2023 17:54:40 GMT; Path=/, AWSALBCORS=GhOCqJeS1ClUkLebIjpeRhsfsJoVeBBekLlRHnOKD3QCJYWQ7aCTPLeLMk+FSUPtrd40XkdTasLbv1qIWVdhp/nqNJvBcQuLCc+jlpimansIVhZJDGQh0cToaxtf; Expires=Sun, 26 Mar 2023 17:54:40 GMT; Path=/; SameSite=None; Secure', 'Access-Control-Allow-Credentials': 'true', 'Access-Control-Allow-Origin': '*', 'Cache-Control': 'max-age=0', 'Content-Encoding': 'gzip', 'Server': 'Concierge', 'X-RateLimit-Limit-day': '500', 'X-RateLimit-Remaining-minute': '59', 'X-RateLimit-Limit-minute': '60', 'X-RateLimit-Remaining-day': '499', 'X-Kong-Upstream-Latency': '295', 'X-Kong-Proxy-Latency': '0', 'Via': 'kong/1.5.1'}.\n"
          ]
        }
      ]
    },
    {
      "cell_type": "code",
      "source": [
        "[d['webTitle'] for d in content.get_results(content.get_content_response())]"
      ],
      "metadata": {
        "id": "EQGoSxl5PPO7"
      },
      "execution_count": null,
      "outputs": []
    },
    {
      "cell_type": "code",
      "source": [
        "import spacy\n",
        "sentencizer = spacy.load('en_core_web_sm')\n",
        "\n",
        "# text = 'My first birthday was great. My 2. was even better.'\n",
        "# [i.text.strip() for i in sentencizer(text).sents]"
      ],
      "metadata": {
        "id": "riiYPyZzbCeC"
      },
      "execution_count": null,
      "outputs": []
    },
    {
      "cell_type": "markdown",
      "source": [
        "## Забираем из статьи все предложения с идиомой вместе с контекстом (2 соседних предложения)"
      ],
      "metadata": {
        "id": "j_n1LVElfUgW"
      }
    },
    {
      "cell_type": "code",
      "source": [
        "import warnings\n",
        "warnings.filterwarnings(\"ignore\", category=FutureWarning)\n",
        "\n",
        "df = pd.DataFrame(columns=['idiom_label', 'sentence'])  # пустой датафрейм, куда будем добавлять примеры, которые спарсим для идиом"
      ],
      "metadata": {
        "id": "h1iJOpd0cVqU"
      },
      "execution_count": null,
      "outputs": []
    },
    {
      "cell_type": "code",
      "source": [
        "%%time\n",
        "total_parsed = 0\n",
        "for i in range(len(idioms)):\n",
        "  idiom, q = idioms.loc[i]  #.idiom, idioms.loc[i].query\n",
        "  content = theguardian_content.Content(url=f'https://content.guardianapis.com/search?order-by=relevance&show-fields=bodyText&page-size=200&q={q}&',\n",
        "                                        api=api_key)\n",
        "\n",
        "  raw_content = content.get_request_response()\n",
        "  if raw_content.status_code != 200:  # если запрос вернулся с ошибкой\n",
        "    print(i, raw_content.status_code, q)  # выведем, что для этой идиомы guardian не смог ничего выдать\n",
        "    continue\n",
        "  try:  # обработка возможных исключений\n",
        "    content_lst = content.get_results(content.get_content_response())\n",
        "    cnt = 0  # счетчик собранных примеров для каждой идиомы\n",
        "    for res in content_lst:\n",
        "        if idiom in res['webTitle']:  # если идиома нашлась в заголовке, возьмем текст заголовка\n",
        "            sentence = res['webTitle']\n",
        "            df = df.append({'idiom_label': idiom, 'sentence': sentence}, ignore_index=True)\n",
        "            total_parsed += 1\n",
        "            cnt+= 1\n",
        "        if idiom in res['fields']['bodyText']:\n",
        "            article_text = res['fields']['bodyText']  # получим текст статьи\n",
        "            sentences = [k.text.strip() for k in sentencizer(article_text).sents]\n",
        "            idiom_sentences = []\n",
        "            for j in range(len(sentences)):\n",
        "                if idiom in sentences[j]:\n",
        "                    idiom_sentences.append(sentences[j])\n",
        "                    # if j > 0 and j < (len(sentences) - 1):\n",
        "                    #     idiom_sentences.append(' '.join([sentences[j - 1], sentences[j], sentences[j + 1]]))\n",
        "                    # elif j == 0:\n",
        "                    #     idiom_sentences.append(' '.join([sentences[j], sentences[j + 1]]))\n",
        "                    # elif j == (len(sentences) - 1):\n",
        "                    #     idiom_sentences.append(' '.join([sentences[j - 1], sentences[j]]))\n",
        "            for ex in idiom_sentences:\n",
        "                df = df.append({'idiom_label': idiom, 'sentence': ex}, ignore_index=True)\n",
        "                total_parsed += 1\n",
        "                cnt += 1\n",
        "  except Exception as e:\n",
        "      print(e)\n",
        "      continue\n",
        "  print(i, idiom, ':', cnt)\n",
        "\n",
        "print(f'Parsed {total_parsed} sentences in total.')"
      ],
      "metadata": {
        "colab": {
          "base_uri": "https://localhost:8080/"
        },
        "id": "G0HLXamKbnHv",
        "outputId": "c71711d0-0a06-4727-f49e-56695ee20519"
      },
      "execution_count": null,
      "outputs": [
        {
          "output_type": "stream",
          "name": "stdout",
          "text": [
            "0 never mind : 89\n",
            "1 next to nothing : 192\n",
            "2 nine times out of ten : 51\n",
            "3 no spring chicken : 111\n",
            "4 not in a million years : 57\n",
            "5 now or never : 178\n",
            "6 dead and buried : 203\n",
            "7 dead meat : 123\n",
            "8 dead wood : 218\n",
            "9 dirty work : 199\n",
            "10 dressed up to the nines : 43\n",
            "11 against time : 218\n",
            "12 rags to riches : 54\n",
            "13 rain or shine : 155\n",
            "14 red ink : 196\n",
            "15 bad blood : 156\n",
            "16 bag of tricks : 192\n",
            "17 baptism of fire : 197\n",
            "18 behind bars : 234\n",
            "19 behind closed doors : 235\n",
            "20 bells and whistles : 180\n",
            "21 big bucks : 169\n",
            "22 big deal : 225\n",
            "23 black and blue : 150\n",
            "24 by the numbers : 1\n",
            "25 face the music : 65\n",
            "26 fall for it : 2\n",
            "27 fall from grace : 196\n",
            "28 food for thought : 140\n",
            "29 for a song : 5\n",
            "30 larger than life : 73\n",
            "31 long in the tooth : 160\n",
            "32 pain in the neck : 185\n",
            "33 poetry in motion : 92\n",
            "34 pressed for time : 129\n",
            "35 safe and sound : 187\n",
            "36 salt of the earth : 64\n",
            "37 sink or swim : 144\n",
            "38 skin and bones : 132\n",
            "39 just what the doctor ordered : 138\n",
            "40 in a nutshell : 172\n",
            "41 in cold blood : 138\n",
            "42 in the bag : 46\n",
            "43 in the blink of an eye : 183\n",
            "44 in the dock : 157\n",
            "45 in the nick of time : 192\n",
            "46 in the pink : 27\n",
            "47 in the same boat : 209\n",
            "48 in the wake of : 57\n",
            "49 in the zone : 32\n",
            "50 itchy feet : 186\n",
            "51 under the sun : 103\n",
            "52 under the table : 178\n",
            "53 under the weather : 177\n",
            "54 under the wire : 162\n",
            "55 up in the air : 194\n",
            "56 thumbs up : 103\n",
            "57 to a fine art : 93\n",
            "58 to the hilt : 201\n",
            "59 tough love : 176\n",
            "60 man in the street : 174\n",
            "61 middle of the road : 128\n",
            "62 watch this space : 86\n",
            "63 young at heart : 111\n",
            "64 get a life : 131\n",
            "65 god forbid : 19\n",
            "66 green light : 208\n",
            "67 green with envy : 162\n",
            "68 greener pastures : 153\n",
            "69 odds and ends : 183\n",
            "70 off the beaten track : 145\n",
            "71 on a shoestring : 185\n",
            "72 on the run : 43\n",
            "73 on the same wavelength : 195\n",
            "74 on the table : 111\n",
            "75 on the wagon : 123\n",
            "76 once in a blue moon : 144\n",
            "77 out of the blue : 176\n",
            "78 over the hill : 154\n",
            "79 carrot and stick : 137\n",
            "80 close to home : 175\n",
            "81 cloud nine : 140\n",
            "82 come hell or high water : 124\n",
            "83 cream of the crop : 146\n",
            "84 a breath of fresh air : 180\n",
            "85 above the law : 265\n",
            "86 against the clock : 195\n",
            "87 alive and kicking : 183\n",
            "88 all that jazz : 115\n",
            "89 along the lines : 199\n",
            "90 an arm and a leg : 185\n",
            "91 an eye for an eye : 146\n",
            "92 at sixes and sevens : 161\n",
            "93 at the drop of a hat : 189\n",
            "94 at the wheel : 135\n",
            "95 hale and hearty : 98\n",
            "96 head over heels : 133\n",
            "97 heart of gold : 162\n",
            "98 how come : 85\n",
            "99 jack of all trades : 108\n",
            "100 just in case : 158\n",
            "101 just deserts : 179\n",
            "102 glass ceiling : 223\n",
            "103 gut feeling : 200\n",
            "104 daily grind : 194\n",
            "105 dead ringer : 155\n",
            "106 piece of cake : 177\n",
            "107 labour of love : 174\n",
            "108 live and learn : 157\n",
            "109 let bygones be bygones : 110\n",
            "110 easier said than done : 171\n",
            "111 elbow grease : 180\n",
            "112 come what may : 192\n",
            "113 cutting edge : 90\n",
            "114 chicken feed : 206\n",
            "115 icing on the cake : 187\n",
            "116 inside job : 165\n",
            "117 a red flag : 171\n",
            "118 a blessing in disguise : 198\n",
            "119 a fish out of water : 141\n",
            "120 a flash in the pan : 171\n",
            "121 a fly on the wall : 111\n",
            "122 a foot in the door : 193\n",
            "123 a sea change : 148\n",
            "124 a shot in the arm : 175\n",
            "125 a sight for sore eyes : 59\n",
            "126 a slap on the wrist : 177\n",
            "127 across the board : 184\n",
            "128 all set : 164\n",
            "129 all the way : 179\n",
            "130 make hay while the sun shines : 62\n",
            "131 many happy returns : 74\n",
            "132 nest egg : 184\n",
            "133 no strings attached : 125\n",
            "134 now and then : 7\n",
            "135 nuts and bolts : 172\n",
            "136 filthy rich : 153\n",
            "137 fair enough : 134\n",
            "138 feeding frenzy : 202\n",
            "139 first among equals : 171\n",
            "140 back to the drawing board : 195\n",
            "141 break a leg : 96\n",
            "142 bricks and mortar : 103\n",
            "143 business as usual : 217\n",
            "144 by and large : 15\n",
            "145 old hat : 175\n",
            "146 on the rocks : 5\n",
            "147 off the hook : 197\n",
            "148 on the ball : 17\n",
            "149 on the fence : 152\n",
            "150 on the same page : 207\n",
            "151 on thin ice : 158\n",
            "152 out of sight : 184\n",
            "153 out of this world : 94\n",
            "154 over the top : 204\n",
            "155 way around : 185\n",
            "156 washed up : 151\n",
            "157 water under the bridge : 180\n",
            "158 wet behind the ears : 122\n",
            "159 wishful thinking : 206\n",
            "160 high and mighty : 139\n",
            "161 hold on a second : 37\n",
            "162 hold your horses : 40\n",
            "163 the upper crust : 89\n",
            "164 the best of both worlds : 187\n",
            "165 the last straw : 161\n",
            "166 rat race : 173\n",
            "167 red letter day : 72\n",
            "168 round the clock : 74\n",
            "169 rule of thumb : 201\n",
            "170 you bet : 73\n",
            "171 silver bullet : 224\n",
            "172 snowed under : 151\n",
            "Parsed 24973 sentences in total.\n",
            "CPU times: user 1h 33min 33s, sys: 1min 35s, total: 1h 35min 8s\n",
            "Wall time: 1h 45min 48s\n"
          ]
        }
      ]
    },
    {
      "cell_type": "code",
      "source": [
        "total_parsed / len(idioms)"
      ],
      "metadata": {
        "colab": {
          "base_uri": "https://localhost:8080/"
        },
        "outputId": "9849dbe2-f565-48d4-f0e6-c71f97903ab2",
        "id": "dlYqVmliiVQC"
      },
      "execution_count": null,
      "outputs": [
        {
          "output_type": "execute_result",
          "data": {
            "text/plain": [
              "144.35260115606937"
            ]
          },
          "metadata": {},
          "execution_count": 14
        }
      ]
    },
    {
      "cell_type": "markdown",
      "source": [
        "В среднем получилось чуть больше 100 примеров на идиому"
      ],
      "metadata": {
        "id": "kYl1J_sYiVQD"
      }
    },
    {
      "cell_type": "markdown",
      "source": [
        "Посмотрим, не оказалось ли дубликатов"
      ],
      "metadata": {
        "id": "IpKPfId-iVQE"
      }
    },
    {
      "cell_type": "code",
      "source": [
        "print('Дублирующихся строчек датафрейма (идиома+предложение):', df.duplicated().sum())\n",
        "print('Дублирующихся предложений:', df.sentence.duplicated().sum())"
      ],
      "metadata": {
        "colab": {
          "base_uri": "https://localhost:8080/"
        },
        "outputId": "b70f6596-a682-4782-cda9-b6118436f5a1",
        "id": "lUGf05QPiVQE"
      },
      "execution_count": null,
      "outputs": [
        {
          "output_type": "stream",
          "name": "stdout",
          "text": [
            "Дублирующихся строчек датафрейма (идиома+предложение): 293\n",
            "Дублирующихся предложений: 313\n"
          ]
        }
      ]
    },
    {
      "cell_type": "code",
      "source": [
        "# df = df.drop(columns='idiom_label')\n",
        "# df = df.rename(columns={'idiom': 'idiom_label'})\n",
        "df = df[['idiom_label', 'sentence']]"
      ],
      "metadata": {
        "id": "HNKbxcJs3UcB"
      },
      "execution_count": null,
      "outputs": []
    },
    {
      "cell_type": "code",
      "source": [
        "df[df.sentence.duplicated()]"
      ],
      "metadata": {
        "colab": {
          "base_uri": "https://localhost:8080/",
          "height": 423
        },
        "outputId": "d5d7b139-e4d6-4186-e033-c9a23c9e2cd9",
        "id": "Vr7IjS3OiVQF"
      },
      "execution_count": null,
      "outputs": [
        {
          "output_type": "execute_result",
          "data": {
            "text/plain": [
              "                  idiom_label  \\\n",
              "372         no spring chicken   \n",
              "429         no spring chicken   \n",
              "498    not in a million years   \n",
              "531              now or never   \n",
              "532              now or never   \n",
              "...                       ...   \n",
              "24772           silver bullet   \n",
              "24805           silver bullet   \n",
              "24869            snowed under   \n",
              "24871            snowed under   \n",
              "24872            snowed under   \n",
              "\n",
              "                                                sentence  \n",
              "372    He was no spring chicken but he worked extreme...  \n",
              "429    As a rough guideline, at 135C a 1.5kg chicken ...  \n",
              "498    'I'm never going to go back, not in a million ...  \n",
              "531    IPCC report: ‘now or never’ if world is to sta...  \n",
              "532    The world can still hope to stave off the wors...  \n",
              "...                                                  ...  \n",
              "24772  They did put testing in but of course realised...  \n",
              "24805  The Labour MP Margaret Hodge, who has long cam...  \n",
              "24869  (We will try to acknowledge them – but given h...  \n",
              "24871  (We will try to acknowledge them – but given h...  \n",
              "24872  (We will try to acknowledge them – but given h...  \n",
              "\n",
              "[313 rows x 2 columns]"
            ],
            "text/html": [
              "\n",
              "  <div id=\"df-f047fa7a-303b-4a09-acc1-61bdbeb2c616\">\n",
              "    <div class=\"colab-df-container\">\n",
              "      <div>\n",
              "<style scoped>\n",
              "    .dataframe tbody tr th:only-of-type {\n",
              "        vertical-align: middle;\n",
              "    }\n",
              "\n",
              "    .dataframe tbody tr th {\n",
              "        vertical-align: top;\n",
              "    }\n",
              "\n",
              "    .dataframe thead th {\n",
              "        text-align: right;\n",
              "    }\n",
              "</style>\n",
              "<table border=\"1\" class=\"dataframe\">\n",
              "  <thead>\n",
              "    <tr style=\"text-align: right;\">\n",
              "      <th></th>\n",
              "      <th>idiom_label</th>\n",
              "      <th>sentence</th>\n",
              "    </tr>\n",
              "  </thead>\n",
              "  <tbody>\n",
              "    <tr>\n",
              "      <th>372</th>\n",
              "      <td>no spring chicken</td>\n",
              "      <td>He was no spring chicken but he worked extreme...</td>\n",
              "    </tr>\n",
              "    <tr>\n",
              "      <th>429</th>\n",
              "      <td>no spring chicken</td>\n",
              "      <td>As a rough guideline, at 135C a 1.5kg chicken ...</td>\n",
              "    </tr>\n",
              "    <tr>\n",
              "      <th>498</th>\n",
              "      <td>not in a million years</td>\n",
              "      <td>'I'm never going to go back, not in a million ...</td>\n",
              "    </tr>\n",
              "    <tr>\n",
              "      <th>531</th>\n",
              "      <td>now or never</td>\n",
              "      <td>IPCC report: ‘now or never’ if world is to sta...</td>\n",
              "    </tr>\n",
              "    <tr>\n",
              "      <th>532</th>\n",
              "      <td>now or never</td>\n",
              "      <td>The world can still hope to stave off the wors...</td>\n",
              "    </tr>\n",
              "    <tr>\n",
              "      <th>...</th>\n",
              "      <td>...</td>\n",
              "      <td>...</td>\n",
              "    </tr>\n",
              "    <tr>\n",
              "      <th>24772</th>\n",
              "      <td>silver bullet</td>\n",
              "      <td>They did put testing in but of course realised...</td>\n",
              "    </tr>\n",
              "    <tr>\n",
              "      <th>24805</th>\n",
              "      <td>silver bullet</td>\n",
              "      <td>The Labour MP Margaret Hodge, who has long cam...</td>\n",
              "    </tr>\n",
              "    <tr>\n",
              "      <th>24869</th>\n",
              "      <td>snowed under</td>\n",
              "      <td>(We will try to acknowledge them – but given h...</td>\n",
              "    </tr>\n",
              "    <tr>\n",
              "      <th>24871</th>\n",
              "      <td>snowed under</td>\n",
              "      <td>(We will try to acknowledge them – but given h...</td>\n",
              "    </tr>\n",
              "    <tr>\n",
              "      <th>24872</th>\n",
              "      <td>snowed under</td>\n",
              "      <td>(We will try to acknowledge them – but given h...</td>\n",
              "    </tr>\n",
              "  </tbody>\n",
              "</table>\n",
              "<p>313 rows × 2 columns</p>\n",
              "</div>\n",
              "      <button class=\"colab-df-convert\" onclick=\"convertToInteractive('df-f047fa7a-303b-4a09-acc1-61bdbeb2c616')\"\n",
              "              title=\"Convert this dataframe to an interactive table.\"\n",
              "              style=\"display:none;\">\n",
              "        \n",
              "  <svg xmlns=\"http://www.w3.org/2000/svg\" height=\"24px\"viewBox=\"0 0 24 24\"\n",
              "       width=\"24px\">\n",
              "    <path d=\"M0 0h24v24H0V0z\" fill=\"none\"/>\n",
              "    <path d=\"M18.56 5.44l.94 2.06.94-2.06 2.06-.94-2.06-.94-.94-2.06-.94 2.06-2.06.94zm-11 1L8.5 8.5l.94-2.06 2.06-.94-2.06-.94L8.5 2.5l-.94 2.06-2.06.94zm10 10l.94 2.06.94-2.06 2.06-.94-2.06-.94-.94-2.06-.94 2.06-2.06.94z\"/><path d=\"M17.41 7.96l-1.37-1.37c-.4-.4-.92-.59-1.43-.59-.52 0-1.04.2-1.43.59L10.3 9.45l-7.72 7.72c-.78.78-.78 2.05 0 2.83L4 21.41c.39.39.9.59 1.41.59.51 0 1.02-.2 1.41-.59l7.78-7.78 2.81-2.81c.8-.78.8-2.07 0-2.86zM5.41 20L4 18.59l7.72-7.72 1.47 1.35L5.41 20z\"/>\n",
              "  </svg>\n",
              "      </button>\n",
              "      \n",
              "  <style>\n",
              "    .colab-df-container {\n",
              "      display:flex;\n",
              "      flex-wrap:wrap;\n",
              "      gap: 12px;\n",
              "    }\n",
              "\n",
              "    .colab-df-convert {\n",
              "      background-color: #E8F0FE;\n",
              "      border: none;\n",
              "      border-radius: 50%;\n",
              "      cursor: pointer;\n",
              "      display: none;\n",
              "      fill: #1967D2;\n",
              "      height: 32px;\n",
              "      padding: 0 0 0 0;\n",
              "      width: 32px;\n",
              "    }\n",
              "\n",
              "    .colab-df-convert:hover {\n",
              "      background-color: #E2EBFA;\n",
              "      box-shadow: 0px 1px 2px rgba(60, 64, 67, 0.3), 0px 1px 3px 1px rgba(60, 64, 67, 0.15);\n",
              "      fill: #174EA6;\n",
              "    }\n",
              "\n",
              "    [theme=dark] .colab-df-convert {\n",
              "      background-color: #3B4455;\n",
              "      fill: #D2E3FC;\n",
              "    }\n",
              "\n",
              "    [theme=dark] .colab-df-convert:hover {\n",
              "      background-color: #434B5C;\n",
              "      box-shadow: 0px 1px 3px 1px rgba(0, 0, 0, 0.15);\n",
              "      filter: drop-shadow(0px 1px 2px rgba(0, 0, 0, 0.3));\n",
              "      fill: #FFFFFF;\n",
              "    }\n",
              "  </style>\n",
              "\n",
              "      <script>\n",
              "        const buttonEl =\n",
              "          document.querySelector('#df-f047fa7a-303b-4a09-acc1-61bdbeb2c616 button.colab-df-convert');\n",
              "        buttonEl.style.display =\n",
              "          google.colab.kernel.accessAllowed ? 'block' : 'none';\n",
              "\n",
              "        async function convertToInteractive(key) {\n",
              "          const element = document.querySelector('#df-f047fa7a-303b-4a09-acc1-61bdbeb2c616');\n",
              "          const dataTable =\n",
              "            await google.colab.kernel.invokeFunction('convertToInteractive',\n",
              "                                                     [key], {});\n",
              "          if (!dataTable) return;\n",
              "\n",
              "          const docLinkHtml = 'Like what you see? Visit the ' +\n",
              "            '<a target=\"_blank\" href=https://colab.research.google.com/notebooks/data_table.ipynb>data table notebook</a>'\n",
              "            + ' to learn more about interactive tables.';\n",
              "          element.innerHTML = '';\n",
              "          dataTable['output_type'] = 'display_data';\n",
              "          await google.colab.output.renderOutput(dataTable, element);\n",
              "          const docLink = document.createElement('div');\n",
              "          docLink.innerHTML = docLinkHtml;\n",
              "          element.appendChild(docLink);\n",
              "        }\n",
              "      </script>\n",
              "    </div>\n",
              "  </div>\n",
              "  "
            ]
          },
          "metadata": {},
          "execution_count": 16
        }
      ]
    },
    {
      "cell_type": "markdown",
      "source": [
        "Выкинем дублирующиеся предложения"
      ],
      "metadata": {
        "id": "mmEn3qDYiVQF"
      }
    },
    {
      "cell_type": "code",
      "source": [
        "df1 = df.drop(index=df[df.sentence.duplicated()].index)\n",
        "df1.shape[0]"
      ],
      "metadata": {
        "colab": {
          "base_uri": "https://localhost:8080/"
        },
        "outputId": "994873f2-1fa5-48fd-f35b-62907b3f24ba",
        "id": "EpSJyqYciVQF"
      },
      "execution_count": null,
      "outputs": [
        {
          "output_type": "execute_result",
          "data": {
            "text/plain": [
              "24660"
            ]
          },
          "metadata": {},
          "execution_count": 17
        }
      ]
    },
    {
      "cell_type": "code",
      "source": [
        "df1.to_csv(os.path.join(drive_data_dir, 'guardian_parsed.csv'), index=False)"
      ],
      "metadata": {
        "id": "9NFOMhNiiVQG"
      },
      "execution_count": null,
      "outputs": []
    }
  ]
}